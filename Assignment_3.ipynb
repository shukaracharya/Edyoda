{
  "nbformat": 4,
  "nbformat_minor": 0,
  "metadata": {
    "colab": {
      "provenance": [],
      "authorship_tag": "ABX9TyMxCETRXmQ+Dx+RyFTjoh4l",
      "include_colab_link": true
    },
    "kernelspec": {
      "name": "python3",
      "display_name": "Python 3"
    },
    "language_info": {
      "name": "python"
    }
  },
  "cells": [
    {
      "cell_type": "markdown",
      "metadata": {
        "id": "view-in-github",
        "colab_type": "text"
      },
      "source": [
        "<a href=\"https://colab.research.google.com/github/shukaracharya/Edyoda/blob/main/Assignment_3.ipynb\" target=\"_parent\"><img src=\"https://colab.research.google.com/assets/colab-badge.svg\" alt=\"Open In Colab\"/></a>"
      ]
    },
    {
      "cell_type": "code",
      "execution_count": 6,
      "metadata": {
        "colab": {
          "base_uri": "https://localhost:8080/"
        },
        "id": "iYWVeerYkjfG",
        "outputId": "b6e84e7e-6ef9-4627-f65d-f50dbc3179cc"
      },
      "outputs": [
        {
          "output_type": "stream",
          "name": "stdout",
          "text": [
            "Bond 2\n",
            "B\n",
            "d\n",
            "n\n",
            "o\n",
            "Bd\n",
            "Bn\n",
            "Bo\n",
            "dn\n",
            "do\n",
            "no\n"
          ]
        }
      ],
      "source": [
        "############ Qustion 1 ############\n",
        "from itertools import combinations\n",
        "s,k=input().split()\n",
        "s=sorted(s)\n",
        "for i in range(1,int(k)+1):\n",
        "    l=list(combinations(s,i))\n",
        "    for i in l:\n",
        "        print(*i,sep='')\n"
      ]
    },
    {
      "cell_type": "code",
      "source": [
        "############ Qustion 1 ############\n",
        "from itertools import * \n",
        "a = list(map(int, input().split()))\n",
        "b = list(map(int, input().split()))\n",
        "c = product(a, b)\n",
        "for i in c:\n",
        "    print(i, end = \" \")\n",
        "\n",
        "\n"
      ],
      "metadata": {
        "colab": {
          "base_uri": "https://localhost:8080/"
        },
        "id": "hIS0kTvRktU-",
        "outputId": "a0683a65-3ca2-4787-9325-ca89a3506ad7"
      },
      "execution_count": 5,
      "outputs": [
        {
          "output_type": "stream",
          "name": "stdout",
          "text": [
            "5 7\n",
            "8 9\n",
            "(5, 8) (5, 9) (7, 8) (7, 9) "
          ]
        }
      ]
    }
  ]
}