{
  "nbformat": 4,
  "nbformat_minor": 0,
  "metadata": {
    "colab": {
      "provenance": [],
      "authorship_tag": "ABX9TyP3jGLiCmOO+SqGR/LttdKE",
      "include_colab_link": true
    },
    "kernelspec": {
      "name": "python3",
      "display_name": "Python 3"
    },
    "language_info": {
      "name": "python"
    }
  },
  "cells": [
    {
      "cell_type": "markdown",
      "metadata": {
        "id": "view-in-github",
        "colab_type": "text"
      },
      "source": [
        "<a href=\"https://colab.research.google.com/github/shukaracharya/Edyoda/blob/main/Assignment_2.ipynb\" target=\"_parent\"><img src=\"https://colab.research.google.com/assets/colab-badge.svg\" alt=\"Open In Colab\"/></a>"
      ]
    },
    {
      "cell_type": "code",
      "execution_count": null,
      "metadata": {
        "colab": {
          "base_uri": "https://localhost:8080/"
        },
        "id": "vDwTnG2UJenb",
        "outputId": "2dca44ae-1ffd-4261-fb6e-4ae6e3991323"
      },
      "outputs": [
        {
          "output_type": "stream",
          "name": "stdout",
          "text": [
            "3\n",
            "[0, 1, 1]\n",
            "27\n",
            "2\n"
          ]
        }
      ],
      "source": [
        "############# Qustion 1 ##############\n",
        "cube = lambda x: x**3 \n",
        "\n",
        "def feb(n):\n",
        "    if n == 0:\n",
        "        return 0\n",
        "    if n <= 2:\n",
        "        return 1 \n",
        "    return feb(n-2) + feb(n-1)\n",
        "\n",
        "def fibonacci(n):\n",
        "    ls = [feb(i) for i in range(n)]\n",
        "\n",
        "    return ls\n",
        "if __name__ == '__main__':\n",
        "    n = int(input())\n",
        "    print(list(map(cube ,fibonacci(n))))\n",
        "    print(cube(n))\n",
        "    print(feb(n))"
      ]
    },
    {
      "cell_type": "code",
      "source": [
        "############# Qustion 1 ##############\n",
        "if __name__ == '__main__':\n",
        "    x = int(input())\n",
        "    y = int(input())\n",
        "    z = int(input())\n",
        "    n = int(input())\n",
        "    a = [[i,j,k] for i in range(x+1) for j in range(y+1) for k in range(z+1) if (i+j+k)!=n ]\n",
        "print(a)"
      ],
      "metadata": {
        "colab": {
          "base_uri": "https://localhost:8080/"
        },
        "id": "a3b8IAFSJlWG",
        "outputId": "698ff2cd-14a2-4d9f-8f70-5d94997d83e4"
      },
      "execution_count": null,
      "outputs": [
        {
          "output_type": "stream",
          "name": "stdout",
          "text": [
            "1\n",
            "2\n",
            "3\n",
            "4\n",
            "[[0, 0, 0], [0, 0, 1], [0, 0, 2], [0, 0, 3], [0, 1, 0], [0, 1, 1], [0, 1, 2], [0, 2, 0], [0, 2, 1], [0, 2, 3], [1, 0, 0], [1, 0, 1], [1, 0, 2], [1, 1, 0], [1, 1, 1], [1, 1, 3], [1, 2, 0], [1, 2, 2], [1, 2, 3]]\n"
          ]
        }
      ]
    },
    {
      "cell_type": "code",
      "source": [
        "############# Qustion 1 ##############\n",
        "import re\n",
        "regex_pattern = r'hackerrank' \n",
        "test_string = input()\n",
        "match = re.findall(regex_pattern, test_string)\n",
        "\n",
        "print(\"Number of matches :\", len(match))"
      ],
      "metadata": {
        "id": "zIJeWeiTJlZT",
        "colab": {
          "base_uri": "https://localhost:8080/"
        },
        "outputId": "9aa517a3-bfa3-4626-f551-194d6f536a6c"
      },
      "execution_count": 25,
      "outputs": [
        {
          "output_type": "stream",
          "name": "stdout",
          "text": [
            "My hackerrank is Grate\n",
            "Number of matches : 1\n"
          ]
        }
      ]
    },
    {
      "cell_type": "code",
      "source": [
        "############# Qustion 1 ##############\n",
        "Regex_Pattern = r\"\\d\\d\\D\\d\\d\\D\\d\\d\\d\\d\"\n",
        "\n",
        "print(str(bool(re.search(Regex_Pattern, input()))).lower())"
      ],
      "metadata": {
        "id": "NMTWzHmNJlcF",
        "colab": {
          "base_uri": "https://localhost:8080/"
        },
        "outputId": "c2583474-8ecd-44e1-a16f-7ff2fe078d3c"
      },
      "execution_count": 24,
      "outputs": [
        {
          "output_type": "stream",
          "name": "stdout",
          "text": [
            "06-11-2015\n",
            "true\n"
          ]
        }
      ]
    },
    {
      "cell_type": "code",
      "source": [
        "############# Qustion 1 ##############\n",
        "Regex_Pattern = r'^[1|2|3][1|2|0][x|s|0][3|0|A|a][x|s|u][.|,]$'\n",
        "\n",
        "print(str(bool(re.search(Regex_Pattern, input()))).lower())"
      ],
      "metadata": {
        "id": "jBnVLpQjJlez",
        "colab": {
          "base_uri": "https://localhost:8080/"
        },
        "outputId": "5c28526e-c6e7-4d2b-cf67-a414675b655a"
      },
      "execution_count": 26,
      "outputs": [
        {
          "output_type": "stream",
          "name": "stdout",
          "text": [
            "1203x.\n",
            "true\n"
          ]
        }
      ]
    },
    {
      "cell_type": "code",
      "source": [
        "############# Qustion 1 ##############\n",
        "Regex_Pattern = r'^[a-z][1-9][^a-z][^A-Z][A-Z]'\n",
        "\n",
        "print(str(bool(re.search(Regex_Pattern, input()))).lower())"
      ],
      "metadata": {
        "id": "_cMzgQL2Jlhl",
        "colab": {
          "base_uri": "https://localhost:8080/"
        },
        "outputId": "072bf461-d496-4f31-e1b2-4463990bad69"
      },
      "execution_count": 27,
      "outputs": [
        {
          "output_type": "stream",
          "name": "stdout",
          "text": [
            "h4CkR\n",
            "true\n"
          ]
        }
      ]
    },
    {
      "cell_type": "code",
      "source": [],
      "metadata": {
        "id": "0SsYT1F4Jlm5"
      },
      "execution_count": null,
      "outputs": []
    },
    {
      "cell_type": "code",
      "source": [],
      "metadata": {
        "id": "gPopwTFNJlp0"
      },
      "execution_count": null,
      "outputs": []
    },
    {
      "cell_type": "code",
      "source": [],
      "metadata": {
        "id": "yukIOKhRJlsn"
      },
      "execution_count": null,
      "outputs": []
    },
    {
      "cell_type": "code",
      "source": [],
      "metadata": {
        "id": "0bwgocRuJlxY"
      },
      "execution_count": null,
      "outputs": []
    }
  ]
}